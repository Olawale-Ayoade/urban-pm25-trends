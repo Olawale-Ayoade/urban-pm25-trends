{
 "cells": [
  {
   "cell_type": "code",
   "execution_count": 4,
   "id": "8560adc1-be38-4f4e-bb67-6f0d5ab0c453",
   "metadata": {},
   "outputs": [],
   "source": [
    "# ---------------------------\n",
    "# 1. Library Imports\n",
    "# ---------------------------\n",
    "\n",
    "import numpy as np\n",
    "import pandas as pd\n",
    "import seaborn as sns\n",
    "import matplotlib.pyplot as plt\n",
    "import os\n",
    "import plotly.express as px # For interactive plot\n",
    "pd.set_option('display.max_columns', None)"
   ]
  },
  {
   "cell_type": "code",
   "execution_count": 202,
   "id": "266efbb1-142f-4370-a50d-db065655b63d",
   "metadata": {},
   "outputs": [
    {
     "data": {
      "text/html": [
       "<div>\n",
       "<style scoped>\n",
       "    .dataframe tbody tr th:only-of-type {\n",
       "        vertical-align: middle;\n",
       "    }\n",
       "\n",
       "    .dataframe tbody tr th {\n",
       "        vertical-align: top;\n",
       "    }\n",
       "\n",
       "    .dataframe thead th {\n",
       "        text-align: right;\n",
       "    }\n",
       "</style>\n",
       "<table border=\"1\" class=\"dataframe\">\n",
       "  <thead>\n",
       "    <tr style=\"text-align: right;\">\n",
       "      <th></th>\n",
       "      <th>IndicatorCode</th>\n",
       "      <th>Indicator</th>\n",
       "      <th>ValueType</th>\n",
       "      <th>ParentLocationCode</th>\n",
       "      <th>ParentLocation</th>\n",
       "      <th>Location type</th>\n",
       "      <th>SpatialDimValueCode</th>\n",
       "      <th>Location</th>\n",
       "      <th>Period type</th>\n",
       "      <th>Period</th>\n",
       "      <th>IsLatestYear</th>\n",
       "      <th>Dim1 type</th>\n",
       "      <th>Dim1</th>\n",
       "      <th>Dim1ValueCode</th>\n",
       "      <th>Dim2 type</th>\n",
       "      <th>Dim2</th>\n",
       "      <th>Dim2ValueCode</th>\n",
       "      <th>Dim3 type</th>\n",
       "      <th>Dim3</th>\n",
       "      <th>Dim3ValueCode</th>\n",
       "      <th>DataSourceDimValueCode</th>\n",
       "      <th>DataSource</th>\n",
       "      <th>FactValueNumericPrefix</th>\n",
       "      <th>FactValueNumeric</th>\n",
       "      <th>FactValueUoM</th>\n",
       "      <th>FactValueNumericLowPrefix</th>\n",
       "      <th>FactValueNumericLow</th>\n",
       "      <th>FactValueNumericHighPrefix</th>\n",
       "      <th>FactValueNumericHigh</th>\n",
       "      <th>Value</th>\n",
       "      <th>FactValueTranslationID</th>\n",
       "      <th>FactComments</th>\n",
       "      <th>Language</th>\n",
       "      <th>DateModified</th>\n",
       "    </tr>\n",
       "  </thead>\n",
       "  <tbody>\n",
       "    <tr>\n",
       "      <th>0</th>\n",
       "      <td>SDGPM25</td>\n",
       "      <td>Concentrations of fine particulate matter (PM2.5)</td>\n",
       "      <td>text</td>\n",
       "      <td>AFR</td>\n",
       "      <td>Africa</td>\n",
       "      <td>Country</td>\n",
       "      <td>KEN</td>\n",
       "      <td>Kenya</td>\n",
       "      <td>Year</td>\n",
       "      <td>2019</td>\n",
       "      <td>True</td>\n",
       "      <td>Residence Area Type</td>\n",
       "      <td>Cities</td>\n",
       "      <td>RESIDENCEAREATYPE_CITY</td>\n",
       "      <td>NaN</td>\n",
       "      <td>NaN</td>\n",
       "      <td>NaN</td>\n",
       "      <td>NaN</td>\n",
       "      <td>NaN</td>\n",
       "      <td>NaN</td>\n",
       "      <td>NaN</td>\n",
       "      <td>NaN</td>\n",
       "      <td>NaN</td>\n",
       "      <td>10.01</td>\n",
       "      <td>NaN</td>\n",
       "      <td>NaN</td>\n",
       "      <td>6.29</td>\n",
       "      <td>NaN</td>\n",
       "      <td>13.74</td>\n",
       "      <td>10.01 [6.29-13.74]</td>\n",
       "      <td>NaN</td>\n",
       "      <td>NaN</td>\n",
       "      <td>EN</td>\n",
       "      <td>2022-08-12T05:00:00.000Z</td>\n",
       "    </tr>\n",
       "    <tr>\n",
       "      <th>1</th>\n",
       "      <td>SDGPM25</td>\n",
       "      <td>Concentrations of fine particulate matter (PM2.5)</td>\n",
       "      <td>text</td>\n",
       "      <td>AMR</td>\n",
       "      <td>Americas</td>\n",
       "      <td>Country</td>\n",
       "      <td>TTO</td>\n",
       "      <td>Trinidad and Tobago</td>\n",
       "      <td>Year</td>\n",
       "      <td>2019</td>\n",
       "      <td>True</td>\n",
       "      <td>Residence Area Type</td>\n",
       "      <td>Rural</td>\n",
       "      <td>RESIDENCEAREATYPE_RUR</td>\n",
       "      <td>NaN</td>\n",
       "      <td>NaN</td>\n",
       "      <td>NaN</td>\n",
       "      <td>NaN</td>\n",
       "      <td>NaN</td>\n",
       "      <td>NaN</td>\n",
       "      <td>NaN</td>\n",
       "      <td>NaN</td>\n",
       "      <td>NaN</td>\n",
       "      <td>10.02</td>\n",
       "      <td>NaN</td>\n",
       "      <td>NaN</td>\n",
       "      <td>7.44</td>\n",
       "      <td>NaN</td>\n",
       "      <td>12.55</td>\n",
       "      <td>10.02 [7.44-12.55]</td>\n",
       "      <td>NaN</td>\n",
       "      <td>NaN</td>\n",
       "      <td>EN</td>\n",
       "      <td>2022-08-12T05:00:00.000Z</td>\n",
       "    </tr>\n",
       "    <tr>\n",
       "      <th>2</th>\n",
       "      <td>SDGPM25</td>\n",
       "      <td>Concentrations of fine particulate matter (PM2.5)</td>\n",
       "      <td>text</td>\n",
       "      <td>EUR</td>\n",
       "      <td>Europe</td>\n",
       "      <td>Country</td>\n",
       "      <td>GBR</td>\n",
       "      <td>United Kingdom of Great Britain and Northern I...</td>\n",
       "      <td>Year</td>\n",
       "      <td>2019</td>\n",
       "      <td>True</td>\n",
       "      <td>Residence Area Type</td>\n",
       "      <td>Cities</td>\n",
       "      <td>RESIDENCEAREATYPE_CITY</td>\n",
       "      <td>NaN</td>\n",
       "      <td>NaN</td>\n",
       "      <td>NaN</td>\n",
       "      <td>NaN</td>\n",
       "      <td>NaN</td>\n",
       "      <td>NaN</td>\n",
       "      <td>NaN</td>\n",
       "      <td>NaN</td>\n",
       "      <td>NaN</td>\n",
       "      <td>10.06</td>\n",
       "      <td>NaN</td>\n",
       "      <td>NaN</td>\n",
       "      <td>9.73</td>\n",
       "      <td>NaN</td>\n",
       "      <td>10.39</td>\n",
       "      <td>10.06 [9.73-10.39]</td>\n",
       "      <td>NaN</td>\n",
       "      <td>NaN</td>\n",
       "      <td>EN</td>\n",
       "      <td>2022-08-12T05:00:00.000Z</td>\n",
       "    </tr>\n",
       "    <tr>\n",
       "      <th>3</th>\n",
       "      <td>SDGPM25</td>\n",
       "      <td>Concentrations of fine particulate matter (PM2.5)</td>\n",
       "      <td>text</td>\n",
       "      <td>AMR</td>\n",
       "      <td>Americas</td>\n",
       "      <td>Country</td>\n",
       "      <td>GRD</td>\n",
       "      <td>Grenada</td>\n",
       "      <td>Year</td>\n",
       "      <td>2019</td>\n",
       "      <td>True</td>\n",
       "      <td>Residence Area Type</td>\n",
       "      <td>Total</td>\n",
       "      <td>RESIDENCEAREATYPE_TOTL</td>\n",
       "      <td>NaN</td>\n",
       "      <td>NaN</td>\n",
       "      <td>NaN</td>\n",
       "      <td>NaN</td>\n",
       "      <td>NaN</td>\n",
       "      <td>NaN</td>\n",
       "      <td>NaN</td>\n",
       "      <td>NaN</td>\n",
       "      <td>NaN</td>\n",
       "      <td>10.08</td>\n",
       "      <td>NaN</td>\n",
       "      <td>NaN</td>\n",
       "      <td>7.07</td>\n",
       "      <td>NaN</td>\n",
       "      <td>13.20</td>\n",
       "      <td>10.08 [7.07-13.20]</td>\n",
       "      <td>NaN</td>\n",
       "      <td>NaN</td>\n",
       "      <td>EN</td>\n",
       "      <td>2022-08-12T05:00:00.000Z</td>\n",
       "    </tr>\n",
       "    <tr>\n",
       "      <th>4</th>\n",
       "      <td>SDGPM25</td>\n",
       "      <td>Concentrations of fine particulate matter (PM2.5)</td>\n",
       "      <td>text</td>\n",
       "      <td>AMR</td>\n",
       "      <td>Americas</td>\n",
       "      <td>Country</td>\n",
       "      <td>BRA</td>\n",
       "      <td>Brazil</td>\n",
       "      <td>Year</td>\n",
       "      <td>2019</td>\n",
       "      <td>True</td>\n",
       "      <td>Residence Area Type</td>\n",
       "      <td>Towns</td>\n",
       "      <td>RESIDENCEAREATYPE_TOWN</td>\n",
       "      <td>NaN</td>\n",
       "      <td>NaN</td>\n",
       "      <td>NaN</td>\n",
       "      <td>NaN</td>\n",
       "      <td>NaN</td>\n",
       "      <td>NaN</td>\n",
       "      <td>NaN</td>\n",
       "      <td>NaN</td>\n",
       "      <td>NaN</td>\n",
       "      <td>10.09</td>\n",
       "      <td>NaN</td>\n",
       "      <td>NaN</td>\n",
       "      <td>8.23</td>\n",
       "      <td>NaN</td>\n",
       "      <td>12.46</td>\n",
       "      <td>10.09 [8.23-12.46]</td>\n",
       "      <td>NaN</td>\n",
       "      <td>NaN</td>\n",
       "      <td>EN</td>\n",
       "      <td>2022-08-12T05:00:00.000Z</td>\n",
       "    </tr>\n",
       "  </tbody>\n",
       "</table>\n",
       "</div>"
      ],
      "text/plain": [
       "  IndicatorCode                                          Indicator ValueType  \\\n",
       "0       SDGPM25  Concentrations of fine particulate matter (PM2.5)      text   \n",
       "1       SDGPM25  Concentrations of fine particulate matter (PM2.5)      text   \n",
       "2       SDGPM25  Concentrations of fine particulate matter (PM2.5)      text   \n",
       "3       SDGPM25  Concentrations of fine particulate matter (PM2.5)      text   \n",
       "4       SDGPM25  Concentrations of fine particulate matter (PM2.5)      text   \n",
       "\n",
       "  ParentLocationCode ParentLocation Location type SpatialDimValueCode  \\\n",
       "0                AFR         Africa       Country                 KEN   \n",
       "1                AMR       Americas       Country                 TTO   \n",
       "2                EUR         Europe       Country                 GBR   \n",
       "3                AMR       Americas       Country                 GRD   \n",
       "4                AMR       Americas       Country                 BRA   \n",
       "\n",
       "                                            Location Period type  Period  \\\n",
       "0                                              Kenya        Year    2019   \n",
       "1                                Trinidad and Tobago        Year    2019   \n",
       "2  United Kingdom of Great Britain and Northern I...        Year    2019   \n",
       "3                                            Grenada        Year    2019   \n",
       "4                                             Brazil        Year    2019   \n",
       "\n",
       "   IsLatestYear            Dim1 type    Dim1           Dim1ValueCode  \\\n",
       "0          True  Residence Area Type  Cities  RESIDENCEAREATYPE_CITY   \n",
       "1          True  Residence Area Type   Rural   RESIDENCEAREATYPE_RUR   \n",
       "2          True  Residence Area Type  Cities  RESIDENCEAREATYPE_CITY   \n",
       "3          True  Residence Area Type   Total  RESIDENCEAREATYPE_TOTL   \n",
       "4          True  Residence Area Type   Towns  RESIDENCEAREATYPE_TOWN   \n",
       "\n",
       "   Dim2 type  Dim2  Dim2ValueCode  Dim3 type  Dim3  Dim3ValueCode  \\\n",
       "0        NaN   NaN            NaN        NaN   NaN            NaN   \n",
       "1        NaN   NaN            NaN        NaN   NaN            NaN   \n",
       "2        NaN   NaN            NaN        NaN   NaN            NaN   \n",
       "3        NaN   NaN            NaN        NaN   NaN            NaN   \n",
       "4        NaN   NaN            NaN        NaN   NaN            NaN   \n",
       "\n",
       "   DataSourceDimValueCode  DataSource  FactValueNumericPrefix  \\\n",
       "0                     NaN         NaN                     NaN   \n",
       "1                     NaN         NaN                     NaN   \n",
       "2                     NaN         NaN                     NaN   \n",
       "3                     NaN         NaN                     NaN   \n",
       "4                     NaN         NaN                     NaN   \n",
       "\n",
       "   FactValueNumeric  FactValueUoM  FactValueNumericLowPrefix  \\\n",
       "0             10.01           NaN                        NaN   \n",
       "1             10.02           NaN                        NaN   \n",
       "2             10.06           NaN                        NaN   \n",
       "3             10.08           NaN                        NaN   \n",
       "4             10.09           NaN                        NaN   \n",
       "\n",
       "   FactValueNumericLow  FactValueNumericHighPrefix  FactValueNumericHigh  \\\n",
       "0                 6.29                         NaN                 13.74   \n",
       "1                 7.44                         NaN                 12.55   \n",
       "2                 9.73                         NaN                 10.39   \n",
       "3                 7.07                         NaN                 13.20   \n",
       "4                 8.23                         NaN                 12.46   \n",
       "\n",
       "                Value  FactValueTranslationID  FactComments Language  \\\n",
       "0  10.01 [6.29-13.74]                     NaN           NaN       EN   \n",
       "1  10.02 [7.44-12.55]                     NaN           NaN       EN   \n",
       "2  10.06 [9.73-10.39]                     NaN           NaN       EN   \n",
       "3  10.08 [7.07-13.20]                     NaN           NaN       EN   \n",
       "4  10.09 [8.23-12.46]                     NaN           NaN       EN   \n",
       "\n",
       "               DateModified  \n",
       "0  2022-08-12T05:00:00.000Z  \n",
       "1  2022-08-12T05:00:00.000Z  \n",
       "2  2022-08-12T05:00:00.000Z  \n",
       "3  2022-08-12T05:00:00.000Z  \n",
       "4  2022-08-12T05:00:00.000Z  "
      ]
     },
     "execution_count": 202,
     "metadata": {},
     "output_type": "execute_result"
    }
   ],
   "source": [
    "# ---------------------------\n",
    "# 2. Load the Data\n",
    "# ---------------------------\n",
    "\n",
    "# Define file path\n",
    "DATA_PATH = \"../data/raw/WHO_PM25_urban_2022.csv\"\n",
    "\n",
    "df = pd.read_csv(DATA_PATH)\n",
    "df.head()"
   ]
  },
  {
   "cell_type": "code",
   "execution_count": 203,
   "id": "83447b1c-aba2-4ee2-b0f6-6745f89e0ac6",
   "metadata": {},
   "outputs": [
    {
     "name": "stdout",
     "output_type": "stream",
     "text": [
      "\n",
      "Number of rows: 9450, Columns: 34\n",
      "\n",
      "Column Names:\n",
      "['IndicatorCode', 'Indicator', 'ValueType', 'ParentLocationCode', 'ParentLocation', 'Location type', 'SpatialDimValueCode', 'Location', 'Period type', 'Period', 'IsLatestYear', 'Dim1 type', 'Dim1', 'Dim1ValueCode', 'Dim2 type', 'Dim2', 'Dim2ValueCode', 'Dim3 type', 'Dim3', 'Dim3ValueCode', 'DataSourceDimValueCode', 'DataSource', 'FactValueNumericPrefix', 'FactValueNumeric', 'FactValueUoM', 'FactValueNumericLowPrefix', 'FactValueNumericLow', 'FactValueNumericHighPrefix', 'FactValueNumericHigh', 'Value', 'FactValueTranslationID', 'FactComments', 'Language', 'DateModified']\n"
     ]
    }
   ],
   "source": [
    "# ---------------------------\n",
    "# 3. Quick Data Overview\n",
    "# ---------------------------\n",
    "\n",
    "# 3.1\n",
    "print(f\"\\nNumber of rows: {df.shape[0]}, Columns: {df.shape[1]}\")\n",
    "print(\"\\nColumn Names:\")\n",
    "print(df.columns.tolist())"
   ]
  },
  {
   "cell_type": "code",
   "execution_count": 204,
   "id": "ca5bb47c-e783-4092-b048-095b98388aa5",
   "metadata": {},
   "outputs": [
    {
     "name": "stdout",
     "output_type": "stream",
     "text": [
      "\n",
      "Number of Countries: 195\n"
     ]
    }
   ],
   "source": [
    "# 3.2 How many countries are in the dataset?\n",
    "num_countries = df['Location'].nunique()\n",
    "print(f\"\\nNumber of Countries: {num_countries}\")"
   ]
  },
  {
   "cell_type": "code",
   "execution_count": 205,
   "id": "d83229b9-bf2d-477e-89ab-63afc8728f50",
   "metadata": {},
   "outputs": [
    {
     "name": "stdout",
     "output_type": "stream",
     "text": [
      "\n",
      "Number of urban records per country:\n",
      " Location\n",
      "Afghanistan                                                 20\n",
      "Albania                                                     20\n",
      "Algeria                                                     20\n",
      "Andorra                                                     10\n",
      "Angola                                                      20\n",
      "                                                            ..\n",
      "Viet Nam                                                    20\n",
      "Yemen                                                       20\n",
      "Zambia                                                      20\n",
      "Zimbabwe                                                    20\n",
      "occupied Palestinian territory, including east Jerusalem    20\n",
      "Length: 193, dtype: int64\n"
     ]
    }
   ],
   "source": [
    "# 3.3 How many cities in each country?\n",
    "city_counts = df[df['Dim1'].str.contains('Cities|Urban')].groupby('Location').size()\n",
    "print(\"\\nNumber of urban records per country:\\n\", city_counts)"
   ]
  },
  {
   "cell_type": "code",
   "execution_count": 206,
   "id": "cd082b9b-c39e-49c7-b510-d1f91d15ecaf",
   "metadata": {},
   "outputs": [
    {
     "name": "stdout",
     "output_type": "stream",
     "text": [
      "\n",
      "Years in dataset: [2010, 2011, 2012, 2013, 2014, 2015, 2016, 2017, 2018, 2019]\n"
     ]
    }
   ],
   "source": [
    "# 3.4 What years are covered?\n",
    "years_covered = df['Period'].unique()\n",
    "print(f\"\\nYears in dataset: {sorted(years_covered)}\")"
   ]
  },
  {
   "cell_type": "code",
   "execution_count": 207,
   "id": "f022c9b4-7ed4-4f39-9d50-8b7369dda6ce",
   "metadata": {},
   "outputs": [
    {
     "name": "stdout",
     "output_type": "stream",
     "text": [
      "\n",
      "Top countries by average PM2.5:\n",
      " Location\n",
      "Afghanistan     73.1300\n",
      "Tajikistan      65.7018\n",
      "Kuwait          63.2226\n",
      "Qatar           60.6244\n",
      "Saudi Arabia    59.3326\n",
      "Name: FactValueNumeric, dtype: float64\n"
     ]
    }
   ],
   "source": [
    "# 3.5.1 Which country has the highest average PM2.5?\n",
    "pm_col = 'FactValueNumeric'\n",
    "avg_pm_by_country = df.groupby('Location')[pm_col].mean().sort_values(ascending=False)\n",
    "print(\"\\nTop countries by average PM2.5:\\n\", avg_pm_by_country.head(5))"
   ]
  },
  {
   "cell_type": "code",
   "execution_count": 208,
   "id": "dbf8b9dd-e6e3-4859-a732-38ae8e9f2bb6",
   "metadata": {},
   "outputs": [
    {
     "name": "stdout",
     "output_type": "stream",
     "text": [
      "\n",
      "Description of Data:\n",
      "\n",
      "<class 'pandas.core.frame.DataFrame'>\n",
      "RangeIndex: 9450 entries, 0 to 9449\n",
      "Data columns (total 34 columns):\n",
      " #   Column                      Non-Null Count  Dtype  \n",
      "---  ------                      --------------  -----  \n",
      " 0   IndicatorCode               9450 non-null   object \n",
      " 1   Indicator                   9450 non-null   object \n",
      " 2   ValueType                   9450 non-null   object \n",
      " 3   ParentLocationCode          9450 non-null   object \n",
      " 4   ParentLocation              9450 non-null   object \n",
      " 5   Location type               9450 non-null   object \n",
      " 6   SpatialDimValueCode         9450 non-null   object \n",
      " 7   Location                    9450 non-null   object \n",
      " 8   Period type                 9450 non-null   object \n",
      " 9   Period                      9450 non-null   int64  \n",
      " 10  IsLatestYear                9450 non-null   bool   \n",
      " 11  Dim1 type                   9450 non-null   object \n",
      " 12  Dim1                        9450 non-null   object \n",
      " 13  Dim1ValueCode               9450 non-null   object \n",
      " 14  Dim2 type                   0 non-null      float64\n",
      " 15  Dim2                        0 non-null      float64\n",
      " 16  Dim2ValueCode               0 non-null      float64\n",
      " 17  Dim3 type                   0 non-null      float64\n",
      " 18  Dim3                        0 non-null      float64\n",
      " 19  Dim3ValueCode               0 non-null      float64\n",
      " 20  DataSourceDimValueCode      0 non-null      float64\n",
      " 21  DataSource                  0 non-null      float64\n",
      " 22  FactValueNumericPrefix      0 non-null      float64\n",
      " 23  FactValueNumeric            9450 non-null   float64\n",
      " 24  FactValueUoM                0 non-null      float64\n",
      " 25  FactValueNumericLowPrefix   0 non-null      float64\n",
      " 26  FactValueNumericLow         9450 non-null   float64\n",
      " 27  FactValueNumericHighPrefix  0 non-null      float64\n",
      " 28  FactValueNumericHigh        9450 non-null   float64\n",
      " 29  Value                       9450 non-null   object \n",
      " 30  FactValueTranslationID      0 non-null      float64\n",
      " 31  FactComments                0 non-null      float64\n",
      " 32  Language                    9450 non-null   object \n",
      " 33  DateModified                9450 non-null   object \n",
      "dtypes: bool(1), float64(17), int64(1), object(15)\n",
      "memory usage: 2.4+ MB\n"
     ]
    }
   ],
   "source": [
    "# ---------------------------\n",
    "# 4. Descriptive Statistics\n",
    "# ---------------------------\n",
    "\n",
    "# 4.1\n",
    "print(\"\\nDescription of Data:\\n\")\n",
    "df.info()"
   ]
  },
  {
   "cell_type": "code",
   "execution_count": 209,
   "id": "d32f969c-3fb7-4985-9ec1-f4c2cb87ae9b",
   "metadata": {},
   "outputs": [
    {
     "data": {
      "text/html": [
       "<div>\n",
       "<style scoped>\n",
       "    .dataframe tbody tr th:only-of-type {\n",
       "        vertical-align: middle;\n",
       "    }\n",
       "\n",
       "    .dataframe tbody tr th {\n",
       "        vertical-align: top;\n",
       "    }\n",
       "\n",
       "    .dataframe thead th {\n",
       "        text-align: right;\n",
       "    }\n",
       "</style>\n",
       "<table border=\"1\" class=\"dataframe\">\n",
       "  <thead>\n",
       "    <tr style=\"text-align: right;\">\n",
       "      <th></th>\n",
       "      <th>Period</th>\n",
       "      <th>Dim2 type</th>\n",
       "      <th>Dim2</th>\n",
       "      <th>Dim2ValueCode</th>\n",
       "      <th>Dim3 type</th>\n",
       "      <th>Dim3</th>\n",
       "      <th>Dim3ValueCode</th>\n",
       "      <th>DataSourceDimValueCode</th>\n",
       "      <th>DataSource</th>\n",
       "      <th>FactValueNumericPrefix</th>\n",
       "      <th>FactValueNumeric</th>\n",
       "      <th>FactValueUoM</th>\n",
       "      <th>FactValueNumericLowPrefix</th>\n",
       "      <th>FactValueNumericLow</th>\n",
       "      <th>FactValueNumericHighPrefix</th>\n",
       "      <th>FactValueNumericHigh</th>\n",
       "      <th>FactValueTranslationID</th>\n",
       "      <th>FactComments</th>\n",
       "    </tr>\n",
       "  </thead>\n",
       "  <tbody>\n",
       "    <tr>\n",
       "      <th>count</th>\n",
       "      <td>9450.000000</td>\n",
       "      <td>0.0</td>\n",
       "      <td>0.0</td>\n",
       "      <td>0.0</td>\n",
       "      <td>0.0</td>\n",
       "      <td>0.0</td>\n",
       "      <td>0.0</td>\n",
       "      <td>0.0</td>\n",
       "      <td>0.0</td>\n",
       "      <td>0.0</td>\n",
       "      <td>9450.000000</td>\n",
       "      <td>0.0</td>\n",
       "      <td>0.0</td>\n",
       "      <td>9450.000000</td>\n",
       "      <td>0.0</td>\n",
       "      <td>9450.000000</td>\n",
       "      <td>0.0</td>\n",
       "      <td>0.0</td>\n",
       "    </tr>\n",
       "    <tr>\n",
       "      <th>mean</th>\n",
       "      <td>2014.500000</td>\n",
       "      <td>NaN</td>\n",
       "      <td>NaN</td>\n",
       "      <td>NaN</td>\n",
       "      <td>NaN</td>\n",
       "      <td>NaN</td>\n",
       "      <td>NaN</td>\n",
       "      <td>NaN</td>\n",
       "      <td>NaN</td>\n",
       "      <td>NaN</td>\n",
       "      <td>23.538435</td>\n",
       "      <td>NaN</td>\n",
       "      <td>NaN</td>\n",
       "      <td>16.229705</td>\n",
       "      <td>NaN</td>\n",
       "      <td>35.475423</td>\n",
       "      <td>NaN</td>\n",
       "      <td>NaN</td>\n",
       "    </tr>\n",
       "    <tr>\n",
       "      <th>std</th>\n",
       "      <td>2.872433</td>\n",
       "      <td>NaN</td>\n",
       "      <td>NaN</td>\n",
       "      <td>NaN</td>\n",
       "      <td>NaN</td>\n",
       "      <td>NaN</td>\n",
       "      <td>NaN</td>\n",
       "      <td>NaN</td>\n",
       "      <td>NaN</td>\n",
       "      <td>NaN</td>\n",
       "      <td>15.024029</td>\n",
       "      <td>NaN</td>\n",
       "      <td>NaN</td>\n",
       "      <td>11.174679</td>\n",
       "      <td>NaN</td>\n",
       "      <td>27.150003</td>\n",
       "      <td>NaN</td>\n",
       "      <td>NaN</td>\n",
       "    </tr>\n",
       "    <tr>\n",
       "      <th>min</th>\n",
       "      <td>2010.000000</td>\n",
       "      <td>NaN</td>\n",
       "      <td>NaN</td>\n",
       "      <td>NaN</td>\n",
       "      <td>NaN</td>\n",
       "      <td>NaN</td>\n",
       "      <td>NaN</td>\n",
       "      <td>NaN</td>\n",
       "      <td>NaN</td>\n",
       "      <td>NaN</td>\n",
       "      <td>4.590000</td>\n",
       "      <td>NaN</td>\n",
       "      <td>NaN</td>\n",
       "      <td>1.410000</td>\n",
       "      <td>NaN</td>\n",
       "      <td>5.260000</td>\n",
       "      <td>NaN</td>\n",
       "      <td>NaN</td>\n",
       "    </tr>\n",
       "    <tr>\n",
       "      <th>25%</th>\n",
       "      <td>2012.000000</td>\n",
       "      <td>NaN</td>\n",
       "      <td>NaN</td>\n",
       "      <td>NaN</td>\n",
       "      <td>NaN</td>\n",
       "      <td>NaN</td>\n",
       "      <td>NaN</td>\n",
       "      <td>NaN</td>\n",
       "      <td>NaN</td>\n",
       "      <td>NaN</td>\n",
       "      <td>11.920000</td>\n",
       "      <td>NaN</td>\n",
       "      <td>NaN</td>\n",
       "      <td>7.850000</td>\n",
       "      <td>NaN</td>\n",
       "      <td>15.950000</td>\n",
       "      <td>NaN</td>\n",
       "      <td>NaN</td>\n",
       "    </tr>\n",
       "    <tr>\n",
       "      <th>50%</th>\n",
       "      <td>2014.500000</td>\n",
       "      <td>NaN</td>\n",
       "      <td>NaN</td>\n",
       "      <td>NaN</td>\n",
       "      <td>NaN</td>\n",
       "      <td>NaN</td>\n",
       "      <td>NaN</td>\n",
       "      <td>NaN</td>\n",
       "      <td>NaN</td>\n",
       "      <td>NaN</td>\n",
       "      <td>19.570000</td>\n",
       "      <td>NaN</td>\n",
       "      <td>NaN</td>\n",
       "      <td>13.790000</td>\n",
       "      <td>NaN</td>\n",
       "      <td>24.480000</td>\n",
       "      <td>NaN</td>\n",
       "      <td>NaN</td>\n",
       "    </tr>\n",
       "    <tr>\n",
       "      <th>75%</th>\n",
       "      <td>2017.000000</td>\n",
       "      <td>NaN</td>\n",
       "      <td>NaN</td>\n",
       "      <td>NaN</td>\n",
       "      <td>NaN</td>\n",
       "      <td>NaN</td>\n",
       "      <td>NaN</td>\n",
       "      <td>NaN</td>\n",
       "      <td>NaN</td>\n",
       "      <td>NaN</td>\n",
       "      <td>30.977500</td>\n",
       "      <td>NaN</td>\n",
       "      <td>NaN</td>\n",
       "      <td>20.340000</td>\n",
       "      <td>NaN</td>\n",
       "      <td>49.687500</td>\n",
       "      <td>NaN</td>\n",
       "      <td>NaN</td>\n",
       "    </tr>\n",
       "    <tr>\n",
       "      <th>max</th>\n",
       "      <td>2019.000000</td>\n",
       "      <td>NaN</td>\n",
       "      <td>NaN</td>\n",
       "      <td>NaN</td>\n",
       "      <td>NaN</td>\n",
       "      <td>NaN</td>\n",
       "      <td>NaN</td>\n",
       "      <td>NaN</td>\n",
       "      <td>NaN</td>\n",
       "      <td>NaN</td>\n",
       "      <td>97.490000</td>\n",
       "      <td>NaN</td>\n",
       "      <td>NaN</td>\n",
       "      <td>70.240000</td>\n",
       "      <td>NaN</td>\n",
       "      <td>175.600000</td>\n",
       "      <td>NaN</td>\n",
       "      <td>NaN</td>\n",
       "    </tr>\n",
       "  </tbody>\n",
       "</table>\n",
       "</div>"
      ],
      "text/plain": [
       "            Period  Dim2 type  Dim2  Dim2ValueCode  Dim3 type  Dim3  \\\n",
       "count  9450.000000        0.0   0.0            0.0        0.0   0.0   \n",
       "mean   2014.500000        NaN   NaN            NaN        NaN   NaN   \n",
       "std       2.872433        NaN   NaN            NaN        NaN   NaN   \n",
       "min    2010.000000        NaN   NaN            NaN        NaN   NaN   \n",
       "25%    2012.000000        NaN   NaN            NaN        NaN   NaN   \n",
       "50%    2014.500000        NaN   NaN            NaN        NaN   NaN   \n",
       "75%    2017.000000        NaN   NaN            NaN        NaN   NaN   \n",
       "max    2019.000000        NaN   NaN            NaN        NaN   NaN   \n",
       "\n",
       "       Dim3ValueCode  DataSourceDimValueCode  DataSource  \\\n",
       "count            0.0                     0.0         0.0   \n",
       "mean             NaN                     NaN         NaN   \n",
       "std              NaN                     NaN         NaN   \n",
       "min              NaN                     NaN         NaN   \n",
       "25%              NaN                     NaN         NaN   \n",
       "50%              NaN                     NaN         NaN   \n",
       "75%              NaN                     NaN         NaN   \n",
       "max              NaN                     NaN         NaN   \n",
       "\n",
       "       FactValueNumericPrefix  FactValueNumeric  FactValueUoM  \\\n",
       "count                     0.0       9450.000000           0.0   \n",
       "mean                      NaN         23.538435           NaN   \n",
       "std                       NaN         15.024029           NaN   \n",
       "min                       NaN          4.590000           NaN   \n",
       "25%                       NaN         11.920000           NaN   \n",
       "50%                       NaN         19.570000           NaN   \n",
       "75%                       NaN         30.977500           NaN   \n",
       "max                       NaN         97.490000           NaN   \n",
       "\n",
       "       FactValueNumericLowPrefix  FactValueNumericLow  \\\n",
       "count                        0.0          9450.000000   \n",
       "mean                         NaN            16.229705   \n",
       "std                          NaN            11.174679   \n",
       "min                          NaN             1.410000   \n",
       "25%                          NaN             7.850000   \n",
       "50%                          NaN            13.790000   \n",
       "75%                          NaN            20.340000   \n",
       "max                          NaN            70.240000   \n",
       "\n",
       "       FactValueNumericHighPrefix  FactValueNumericHigh  \\\n",
       "count                         0.0           9450.000000   \n",
       "mean                          NaN             35.475423   \n",
       "std                           NaN             27.150003   \n",
       "min                           NaN              5.260000   \n",
       "25%                           NaN             15.950000   \n",
       "50%                           NaN             24.480000   \n",
       "75%                           NaN             49.687500   \n",
       "max                           NaN            175.600000   \n",
       "\n",
       "       FactValueTranslationID  FactComments  \n",
       "count                     0.0           0.0  \n",
       "mean                      NaN           NaN  \n",
       "std                       NaN           NaN  \n",
       "min                       NaN           NaN  \n",
       "25%                       NaN           NaN  \n",
       "50%                       NaN           NaN  \n",
       "75%                       NaN           NaN  \n",
       "max                       NaN           NaN  "
      ]
     },
     "execution_count": 209,
     "metadata": {},
     "output_type": "execute_result"
    }
   ],
   "source": [
    "# 4.2\n",
    "df.describe()"
   ]
  },
  {
   "cell_type": "code",
   "execution_count": 210,
   "id": "ccfd73b1-ed54-45f4-b06e-086ceda8f1c9",
   "metadata": {},
   "outputs": [
    {
     "name": "stdout",
     "output_type": "stream",
     "text": [
      "\n",
      "Missing values per column:\n",
      "\n",
      "IndicatorCode                    0\n",
      "Indicator                        0\n",
      "ValueType                        0\n",
      "ParentLocationCode               0\n",
      "ParentLocation                   0\n",
      "Location type                    0\n",
      "SpatialDimValueCode              0\n",
      "Location                         0\n",
      "Period type                      0\n",
      "Period                           0\n",
      "IsLatestYear                     0\n",
      "Dim1 type                        0\n",
      "Dim1                             0\n",
      "Dim1ValueCode                    0\n",
      "Dim2 type                     9450\n",
      "Dim2                          9450\n",
      "Dim2ValueCode                 9450\n",
      "Dim3 type                     9450\n",
      "Dim3                          9450\n",
      "Dim3ValueCode                 9450\n",
      "DataSourceDimValueCode        9450\n",
      "DataSource                    9450\n",
      "FactValueNumericPrefix        9450\n",
      "FactValueNumeric                 0\n",
      "FactValueUoM                  9450\n",
      "FactValueNumericLowPrefix     9450\n",
      "FactValueNumericLow              0\n",
      "FactValueNumericHighPrefix    9450\n",
      "FactValueNumericHigh             0\n",
      "Value                            0\n",
      "FactValueTranslationID        9450\n",
      "FactComments                  9450\n",
      "Language                         0\n",
      "DateModified                     0\n",
      "dtype: int64\n"
     ]
    }
   ],
   "source": [
    "# 4.3\n",
    "print(\"\\nMissing values per column:\\n\")\n",
    "print(df.isnull().sum())"
   ]
  },
  {
   "cell_type": "code",
   "execution_count": 211,
   "id": "46287bef-b24a-492c-958f-c9dc1fc46539",
   "metadata": {},
   "outputs": [
    {
     "name": "stdout",
     "output_type": "stream",
     "text": [
      "\n",
      "Number of duplicated rows: 0\n"
     ]
    }
   ],
   "source": [
    "# 4.4 Check for duplicated rows\n",
    "print(f\"\\nNumber of duplicated rows: {df.duplicated().sum()}\")"
   ]
  },
  {
   "cell_type": "code",
   "execution_count": 212,
   "id": "5f15747c-756b-45e8-bdec-e958f1881ec0",
   "metadata": {},
   "outputs": [
    {
     "data": {
      "image/png": "[encoded data removed]",
      "text/plain": [
       "<Figure size 1000x500 with 1 Axes>"
      ]
     },
     "metadata": {},
     "output_type": "display_data"
    }
   ],
   "source": [
    "# ---------------------------\n",
    "# 5. Visual Exploration\n",
    "# ---------------------------\n",
    "\n",
    "# 5.1 Distribution of PM2.5 values\n",
    "plt.figure(figsize=(10, 5))\n",
    "sns.histplot(df[pm_col], bins=40, kde=True)\n",
    "plt.title(\"Distribution of Annual Mean PM2.5 Values\")\n",
    "plt.xlabel(\"PM2.5 (μg/m³)\")\n",
    "plt.ylabel(\"Frequency\")\n",
    "plt.grid(True)\n",
    "plt.show()"
   ]
  },
  {
   "cell_type": "code",
   "execution_count": 213,
   "id": "a71c4157-26f9-4a50-965a-b203f65e52d4",
   "metadata": {},
   "outputs": [
    {
     "name": "stderr",
     "output_type": "stream",
     "text": [
      "/var/folders/k_/m7hq9l850hd6f3qfdc02z2g00000gn/T/ipykernel_16983/3571130527.py:6: FutureWarning:\n",
      "\n",
      "\n",
      "\n",
      "Passing `palette` without assigning `hue` is deprecated and will be removed in v0.14.0. Assign the `x` variable to `hue` and set `legend=False` for the same effect.\n",
      "\n",
      "\n"
     ]
    },
    {
     "data": {
      "image/png": "[encoded data removed]",
      "text/plain": [
       "<Figure size 1200x600 with 1 Axes>"
      ]
     },
     "metadata": {},
     "output_type": "display_data"
    }
   ],
   "source": [
    "# 5.2.1 Top 10 most poluted locations (latest year only)\n",
    "latest_year = df[df['IsLatestYear'] == 1]\n",
    "top_locations = latest_year.sort_values(by=pm_col, ascending=False).head(10)\n",
    "\n",
    "plt.figure(figsize=(12, 6))\n",
    "sns.barplot(data=top_locations, x='Location', y=pm_col, palette='Reds_r')\n",
    "plt.title(\"Top 10 Most Polluted Urban Locations (Latest Year Available)\")\n",
    "plt.ylabel(\"PM2.5 (μg/m³)\")\n",
    "plt.xlabel(\"Location\")\n",
    "plt.xticks(rotation=45)\n",
    "plt.tight_layout()\n",
    "plt.show()"
   ]
  },
  {
   "cell_type": "code",
   "execution_count": 214,
   "id": "d38daefe-1598-4604-8316-5c436b81073b",
   "metadata": {},
   "outputs": [
    {
     "name": "stderr",
     "output_type": "stream",
     "text": [
      "/var/folders/k_/m7hq9l850hd6f3qfdc02z2g00000gn/T/ipykernel_16983/1205751918.py:6: FutureWarning:\n",
      "\n",
      "\n",
      "\n",
      "Passing `palette` without assigning `hue` is deprecated and will be removed in v0.14.0. Assign the `x` variable to `hue` and set `legend=False` for the same effect.\n",
      "\n",
      "\n"
     ]
    },
    {
     "data": {
      "image/png": "[encoded data removed]",
      "text/plain": [
       "<Figure size 1200x600 with 1 Axes>"
      ]
     },
     "metadata": {},
     "output_type": "display_data"
    }
   ],
   "source": [
    "# 5.2.2 Top 10 least poluted locations (latest year only)\n",
    "latest_year = df[df['IsLatestYear'] == 1]\n",
    "top_locations = latest_year.sort_values(by=pm_col, ascending=True).head(10)\n",
    "\n",
    "plt.figure(figsize=(12, 6))\n",
    "sns.barplot(data=top_locations, x='Location', y=pm_col, palette='Greens_r')\n",
    "plt.title(\"Top 10 Least Polluted Urban Locations (Latest Year Available)\")\n",
    "plt.ylabel(\"PM2.5 (μg/m³)\")\n",
    "plt.xlabel(\"Location\")\n",
    "plt.xticks(rotation=45)\n",
    "plt.tight_layout()\n",
    "plt.show()"
   ]
  },
  {
   "cell_type": "code",
   "execution_count": 215,
   "id": "389ba1dd-051b-42a7-a082-60bee9e2aab4",
   "metadata": {},
   "outputs": [
    {
     "data": {
      "image/png": "[encoded data removed]",
      "text/plain": [
       "<Figure size 1000x500 with 1 Axes>"
      ]
     },
     "metadata": {},
     "output_type": "display_data"
    }
   ],
   "source": [
    "# 5.3 Plot average PM2.5 over time\n",
    "yearly_avg = df.groupby('Period')[pm_col].mean().reset_index()\n",
    "plt.figure(figsize=(10, 5))\n",
    "sns.lineplot(data=yearly_avg, x='Period', y=pm_col)\n",
    "plt.title(\"Global Average PM2.5 Over Time\")\n",
    "plt.xlabel(\"Year\")\n",
    "plt.ylabel(\"Average PM2.5 (μg/m³)\")\n",
    "plt.grid(True)\n",
    "plt.show()"
   ]
  },
  {
   "cell_type": "code",
   "execution_count": 216,
   "id": "c7c28ae6-2a88-46ad-9c23-a5bd8ca5486f",
   "metadata": {},
   "outputs": [
    {
     "data": {
      "application/vnd.plotly.v1+json": {
       "config": {
        "plotlyServerURL": "https://plot.ly"
       },
       "data": [
        {
         "coloraxis": "coloraxis",
         "geo": "geo",
         "hovertemplate": "Location=%{location}<br>FactValueNumeric=%{z}<extra></extra>",
         "locationmode": "country names",
         "locations": [
          "Afghanistan",
          "Albania",
          "Algeria",
          "Andorra",
          "Angola",
          "Antigua and Barbuda",
          "Argentina",
          "Armenia",
          "Australia",
          "Austria",
          "Azerbaijan",
          "Bahamas",
          "Bahrain",
          "Bangladesh",
          "Barbados",
          "Belarus",
          "Belgium",
          "Belize",
          "Benin",
          "Bhutan",
          "Bolivia (Plurinational State of)",
          "Bosnia and Herzegovina",
          "Botswana",
          "Brazil",
          "Brunei Darussalam",
          "Bulgaria",
          "Burkina Faso",
          "Burundi",
          "Cabo Verde",
          "Cambodia",
          "Cameroon",
          "Canada",
          "Central African Republic",
          "Chad",
          "Chile",
          "China",
          "Colombia",
          "Comoros",
          "Congo",
          "Cook Islands",
          "Costa Rica",
          "Cote d'Ivoire",
          "Croatia",
          "Cuba",
          "Cyprus",
          "Czechia",
          "Democratic People's Republic of Korea",
          "Democratic Republic of the Congo",
          "Denmark",
          "Djibouti",
          "Dominica",
          "Dominican Republic",
          "Ecuador",
          "Egypt",
          "El Salvador",
          "Equatorial Guinea",
          "Eritrea",
          "Estonia",
          "Eswatini",
          "Ethiopia",
          "Fiji",
          "Finland",
          "France",
          "Gabon",
          "Gambia",
          "Georgia",
          "Germany",
          "Ghana",
          "Greece",
          "Grenada",
          "Guatemala",
          "Guinea",
          "Guinea-Bissau",
          "Guyana",
          "Haiti",
          "Honduras",
          "Hungary",
          "Iceland",
          "India",
          "Indonesia",
          "Iran (Islamic Republic of)",
          "Iraq",
          "Ireland",
          "Israel",
          "Italy",
          "Jamaica",
          "Japan",
          "Jordan",
          "Kazakhstan",
          "Kenya",
          "Kiribati",
          "Kuwait",
          "Kyrgyzstan",
          "Lao People's Democratic Republic",
          "Latvia",
          "Lebanon",
          "Lesotho",
          "Liberia",
          "Libya",
          "Lithuania",
          "Luxembourg",
          "Madagascar",
          "Malawi",
          "Malaysia",
          "Maldives",
          "Mali",
          "Malta",
          "Marshall Islands",
          "Mauritania",
          "Mauritius",
          "Mexico",
          "Micronesia (Federated States of)",
          "Monaco",
          "Mongolia",
          "Montenegro",
          "Morocco",
          "Mozambique",
          "Myanmar",
          "Namibia",
          "Nauru",
          "Nepal",
          "Netherlands (Kingdom of the)",
          "New Zealand",
          "Nicaragua",
          "Niger",
          "Nigeria",
          "Niue",
          "North Macedonia",
          "Norway",
          "Oman",
          "Pakistan",
          "Palau",
          "Panama",
          "Papua New Guinea",
          "Paraguay",
          "Peru",
          "Philippines",
          "Poland",
          "Portugal",
          "Qatar",
          "Republic of Korea",
          "Republic of Moldova",
          "Romania",
          "Russian Federation",
          "Rwanda",
          "Saint Kitts and Nevis",
          "Saint Lucia",
          "Saint Vincent and the Grenadines",
          "Samoa",
          "San Marino",
          "Sao Tome and Principe",
          "Saudi Arabia",
          "Senegal",
          "Serbia",
          "Seychelles",
          "Sierra Leone",
          "Singapore",
          "Slovakia",
          "Slovenia",
          "Solomon Islands",
          "Somalia",
          "South Africa",
          "South Sudan",
          "Spain",
          "Sri Lanka",
          "Sudan",
          "Suriname",
          "Sweden",
          "Switzerland",
          "Syrian Arab Republic",
          "Tajikistan",
          "Thailand",
          "Timor-Leste",
          "Togo",
          "Tonga",
          "Trinidad and Tobago",
          "Tunisia",
          "Turkmenistan",
          "Tuvalu",
          "Türkiye",
          "Uganda",
          "Ukraine",
          "United Arab Emirates",
          "United Kingdom of Great Britain and Northern Ireland",
          "United Republic of Tanzania",
          "United States of America",
          "Uruguay",
          "Uzbekistan",
          "Vanuatu",
          "Venezuela (Bolivarian Republic of)",
          "Viet Nam",
          "Yemen",
          "Zambia",
          "Zimbabwe",
          "occupied Palestinian territory, including east Jerusalem"
         ],
         "name": "",
         "type": "choropleth",
         "z": [
          73.13,
          19.846,
          22.3402,
          9.96425,
          26.5994,
          8.51925,
          13.063799999999999,
          40.541599999999995,
          7.4041999999999994,
          13.855799999999999,
          30.246599999999997,
          5.3014,
          54.5958,
          48.2078,
          9.807,
          17.1784,
          13.5534,
          10.5776,
          31.8524,
          23.82125,
          26.613000000000003,
          34.2952,
          13.8972,
          12.8388,
          7.777200000000001,
          21.878200000000003,
          43.433,
          28.016,
          31.423000000000002,
          18.245,
          58.389399999999995,
          7.0436000000000005,
          30.0752,
          48.857200000000006,
          22.893,
          49.616800000000005,
          16.9674,
          14.2072,
          32.4414,
          7.545,
          17.625,
          43.065,
          19.0938,
          14.8504,
          15.9376,
          18.165599999999998,
          54.5642,
          34.4448,
          10.9562,
          20.4444,
          8.37975,
          7.6284,
          17.3326,
          58.42,
          26.1748,
          26.7704,
          23.226,
          7.1442,
          15.340399999999999,
          22.573400000000003,
          7.627249999999999,
          6.4876,
          12.5638,
          28.367199999999997,
          38.422,
          23.152399999999997,
          12.9596,
          47.7406,
          16.78,
          10.13475,
          25.225,
          39.1128,
          36.8234,
          11.2646,
          9.8198,
          22.5484,
          17.8048,
          6.579,
          55.309,
          19.657799999999998,
          31.0992,
          39.818400000000004,
          9.1578,
          21.037,
          17.208199999999998,
          15.4856,
          12.472000000000001,
          25.025199999999998,
          36.501,
          12.328,
          7.640000000000001,
          63.2226,
          45.9318,
          22.8286,
          14.5166,
          23.6706,
          18.3856,
          36.1604,
          28.6618,
          12.416199999999998,
          10.5966,
          17.6174,
          19.3944,
          21.7958,
          13.022,
          41.3878,
          13.345999999999998,
          7.28575,
          44.305,
          10.5932,
          20.8092,
          7.699250000000001,
          10.484,
          51.8704,
          22.74,
          13.366200000000001,
          16.989,
          27.796599999999998,
          12.535,
          6.929250000000001,
          39.6566,
          12.693,
          7.7318,
          19.8156,
          53.1062,
          55.0374,
          6.553,
          32.7716,
          7.4916,
          36.428000000000004,
          55.8094,
          7.7425,
          14.024000000000001,
          8.984,
          14.634,
          29.859,
          22.883200000000002,
          23.663,
          8.9658,
          60.62440000000001,
          26.9932,
          14.4716,
          16.413,
          10.1658,
          35.304,
          8.0145,
          9.07775,
          9.443999999999999,
          7.710500000000001,
          11.425999999999998,
          32.932199999999995,
          59.3326,
          39.6456,
          26.452399999999997,
          17.22175,
          40.652,
          14.44725,
          19.6524,
          18.270799999999998,
          8.0778,
          14.377,
          18.741400000000002,
          22.2594,
          10.9992,
          24.076,
          23.253600000000002,
          12.456600000000002,
          6.7002,
          10.87,
          24.7628,
          65.7018,
          25.172600000000003,
          20.655,
          36.598,
          7.3340000000000005,
          10.3758,
          26.4362,
          31.8174,
          6.8420000000000005,
          23.0922,
          32.6746,
          15.345999999999998,
          41.608999999999995,
          10.8172,
          15.683800000000002,
          8.3578,
          9.2688,
          50.782399999999996,
          8.61425,
          19.5086,
          21.2444,
          41.1928,
          18.006600000000002,
          13.6828,
          29.601
         ]
        }
       ],
       "layout": {
        "autosize": true,
        "coloraxis": {
         "colorbar": {
          "title": {
           "text": "FactValueNumeric"
          }
         },
         "colorscale": [
          [
           0,
           "#30123b"
          ],
          [
           0.07142857142857142,
           "#4145ab"
          ],
          [
           0.14285714285714285,
           "#4675ed"
          ],
          [
           0.21428571428571427,
           "#39a2fc"
          ],
          [
           0.2857142857142857,
           "#1bcfd4"
          ],
          [
           0.35714285714285715,
           "#24eca6"
          ],
          [
           0.42857142857142855,
           "#61fc6c"
          ],
          [
           0.5,
           "#a4fc3b"
          ],
          [
           0.5714285714285714,
           "#d1e834"
          ],
          [
           0.6428571428571429,
           "#f3c63a"
          ],
          [
           0.7142857142857143,
           "#fe9b2d"
          ],
          [
           0.7857142857142857,
           "#f36315"
          ],
          [
           0.8571428571428571,
           "#d93806"
          ],
          [
           0.9285714285714286,
           "#b11901"
          ],
          [
           1,
           "#7a0402"
          ]
         ]
        },
        "geo": {
         "center": {
          "lat": -12.32096247363376,
          "lon": 5.32798377238217
         },
         "domain": {
          "x": [
           0,
           1
          ],
          "y": [
           0,
           1
          ]
         },
         "projection": {
          "rotation": {
           "lon": 5.32798377238217
          },
          "scale": 1.614399143836234
         }
        },
        "legend": {
         "tracegroupgap": 0
        },
        "template": {
         "data": {
          "bar": [
           {
            "error_x": {
             "color": "#2a3f5f"
            },
            "error_y": {
             "color": "#2a3f5f"
            },
            "marker": {
             "line": {
              "color": "#E5ECF6",
              "width": 0.5
             },
             "pattern": {
              "fillmode": "overlay",
              "size": 10,
              "solidity": 0.2
             }
            },
            "type": "bar"
           }
          ],
          "barpolar": [
           {
            "marker": {
             "line": {
              "color": "#E5ECF6",
              "width": 0.5
             },
             "pattern": {
              "fillmode": "overlay",
              "size": 10,
              "solidity": 0.2
             }
            },
            "type": "barpolar"
           }
          ],
          "carpet": [
           {
            "aaxis": {
             "endlinecolor": "#2a3f5f",
             "gridcolor": "white",
             "linecolor": "white",
             "minorgridcolor": "white",
             "startlinecolor": "#2a3f5f"
            },
            "baxis": {
             "endlinecolor": "#2a3f5f",
             "gridcolor": "white",
             "linecolor": "white",
             "minorgridcolor": "white",
             "startlinecolor": "#2a3f5f"
            },
            "type": "carpet"
           }
          ],
          "choropleth": [
           {
            "colorbar": {
             "outlinewidth": 0,
             "ticks": ""
            },
            "type": "choropleth"
           }
          ],
          "contour": [
           {
            "colorbar": {
             "outlinewidth": 0,
             "ticks": ""
            },
            "colorscale": [
             [
              0,
              "#0d0887"
             ],
             [
              0.1111111111111111,
              "#46039f"
             ],
             [
              0.2222222222222222,
              "#7201a8"
             ],
             [
              0.3333333333333333,
              "#9c179e"
             ],
             [
              0.4444444444444444,
              "#bd3786"
             ],
             [
              0.5555555555555556,
              "#d8576b"
             ],
             [
              0.6666666666666666,
              "#ed7953"
             ],
             [
              0.7777777777777778,
              "#fb9f3a"
             ],
             [
              0.8888888888888888,
              "#fdca26"
             ],
             [
              1,
              "#f0f921"
             ]
            ],
            "type": "contour"
           }
          ],
          "contourcarpet": [
           {
            "colorbar": {
             "outlinewidth": 0,
             "ticks": ""
            },
            "type": "contourcarpet"
           }
          ],
          "heatmap": [
           {
            "colorbar": {
             "outlinewidth": 0,
             "ticks": ""
            },
            "colorscale": [
             [
              0,
              "#0d0887"
             ],
             [
              0.1111111111111111,
              "#46039f"
             ],
             [
              0.2222222222222222,
              "#7201a8"
             ],
             [
              0.3333333333333333,
              "#9c179e"
             ],
             [
              0.4444444444444444,
              "#bd3786"
             ],
             [
              0.5555555555555556,
              "#d8576b"
             ],
             [
              0.6666666666666666,
              "#ed7953"
             ],
             [
              0.7777777777777778,
              "#fb9f3a"
             ],
             [
              0.8888888888888888,
              "#fdca26"
             ],
             [
              1,
              "#f0f921"
             ]
            ],
            "type": "heatmap"
           }
          ],
          "heatmapgl": [
           {
            "colorbar": {
             "outlinewidth": 0,
             "ticks": ""
            },
            "colorscale": [
             [
              0,
              "#0d0887"
             ],
             [
              0.1111111111111111,
              "#46039f"
             ],
             [
              0.2222222222222222,
              "#7201a8"
             ],
             [
              0.3333333333333333,
              "#9c179e"
             ],
             [
              0.4444444444444444,
              "#bd3786"
             ],
             [
              0.5555555555555556,
              "#d8576b"
             ],
             [
              0.6666666666666666,
              "#ed7953"
             ],
             [
              0.7777777777777778,
              "#fb9f3a"
             ],
             [
              0.8888888888888888,
              "#fdca26"
             ],
             [
              1,
              "#f0f921"
             ]
            ],
            "type": "heatmapgl"
           }
          ],
          "histogram": [
           {
            "marker": {
             "pattern": {
              "fillmode": "overlay",
              "size": 10,
              "solidity": 0.2
             }
            },
            "type": "histogram"
           }
          ],
          "histogram2d": [
           {
            "colorbar": {
             "outlinewidth": 0,
             "ticks": ""
            },
            "colorscale": [
             [
              0,
              "#0d0887"
             ],
             [
              0.1111111111111111,
              "#46039f"
             ],
             [
              0.2222222222222222,
              "#7201a8"
             ],
             [
              0.3333333333333333,
              "#9c179e"
             ],
             [
              0.4444444444444444,
              "#bd3786"
             ],
             [
              0.5555555555555556,
              "#d8576b"
             ],
             [
              0.6666666666666666,
              "#ed7953"
             ],
             [
              0.7777777777777778,
              "#fb9f3a"
             ],
             [
              0.8888888888888888,
              "#fdca26"
             ],
             [
              1,
              "#f0f921"
             ]
            ],
            "type": "histogram2d"
           }
          ],
          "histogram2dcontour": [
           {
            "colorbar": {
             "outlinewidth": 0,
             "ticks": ""
            },
            "colorscale": [
             [
              0,
              "#0d0887"
             ],
             [
              0.1111111111111111,
              "#46039f"
             ],
             [
              0.2222222222222222,
              "#7201a8"
             ],
             [
              0.3333333333333333,
              "#9c179e"
             ],
             [
              0.4444444444444444,
              "#bd3786"
             ],
             [
              0.5555555555555556,
              "#d8576b"
             ],
             [
              0.6666666666666666,
              "#ed7953"
             ],
             [
              0.7777777777777778,
              "#fb9f3a"
             ],
             [
              0.8888888888888888,
              "#fdca26"
             ],
             [
              1,
              "#f0f921"
             ]
            ],
            "type": "histogram2dcontour"
           }
          ],
          "mesh3d": [
           {
            "colorbar": {
             "outlinewidth": 0,
             "ticks": ""
            },
            "type": "mesh3d"
           }
          ],
          "parcoords": [
           {
            "line": {
             "colorbar": {
              "outlinewidth": 0,
              "ticks": ""
             }
            },
            "type": "parcoords"
           }
          ],
          "pie": [
           {
            "automargin": true,
            "type": "pie"
           }
          ],
          "scatter": [
           {
            "fillpattern": {
             "fillmode": "overlay",
             "size": 10,
             "solidity": 0.2
            },
            "type": "scatter"
           }
          ],
          "scatter3d": [
           {
            "line": {
             "colorbar": {
              "outlinewidth": 0,
              "ticks": ""
             }
            },
            "marker": {
             "colorbar": {
              "outlinewidth": 0,
              "ticks": ""
             }
            },
            "type": "scatter3d"
           }
          ],
          "scattercarpet": [
           {
            "marker": {
             "colorbar": {
              "outlinewidth": 0,
              "ticks": ""
             }
            },
            "type": "scattercarpet"
           }
          ],
          "scattergeo": [
           {
            "marker": {
             "colorbar": {
              "outlinewidth": 0,
              "ticks": ""
             }
            },
            "type": "scattergeo"
           }
          ],
          "scattergl": [
           {
            "marker": {
             "colorbar": {
              "outlinewidth": 0,
              "ticks": ""
             }
            },
            "type": "scattergl"
           }
          ],
          "scattermapbox": [
           {
            "marker": {
             "colorbar": {
              "outlinewidth": 0,
              "ticks": ""
             }
            },
            "type": "scattermapbox"
           }
          ],
          "scatterpolar": [
           {
            "marker": {
             "colorbar": {
              "outlinewidth": 0,
              "ticks": ""
             }
            },
            "type": "scatterpolar"
           }
          ],
          "scatterpolargl": [
           {
            "marker": {
             "colorbar": {
              "outlinewidth": 0,
              "ticks": ""
             }
            },
            "type": "scatterpolargl"
           }
          ],
          "scatterternary": [
           {
            "marker": {
             "colorbar": {
              "outlinewidth": 0,
              "ticks": ""
             }
            },
            "type": "scatterternary"
           }
          ],
          "surface": [
           {
            "colorbar": {
             "outlinewidth": 0,
             "ticks": ""
            },
            "colorscale": [
             [
              0,
              "#0d0887"
             ],
             [
              0.1111111111111111,
              "#46039f"
             ],
             [
              0.2222222222222222,
              "#7201a8"
             ],
             [
              0.3333333333333333,
              "#9c179e"
             ],
             [
              0.4444444444444444,
              "#bd3786"
             ],
             [
              0.5555555555555556,
              "#d8576b"
             ],
             [
              0.6666666666666666,
              "#ed7953"
             ],
             [
              0.7777777777777778,
              "#fb9f3a"
             ],
             [
              0.8888888888888888,
              "#fdca26"
             ],
             [
              1,
              "#f0f921"
             ]
            ],
            "type": "surface"
           }
          ],
          "table": [
           {
            "cells": {
             "fill": {
              "color": "#EBF0F8"
             },
             "line": {
              "color": "white"
             }
            },
            "header": {
             "fill": {
              "color": "#C8D4E3"
             },
             "line": {
              "color": "white"
             }
            },
            "type": "table"
           }
          ]
         },
         "layout": {
          "annotationdefaults": {
           "arrowcolor": "#2a3f5f",
           "arrowhead": 0,
           "arrowwidth": 1
          },
          "autotypenumbers": "strict",
          "coloraxis": {
           "colorbar": {
            "outlinewidth": 0,
            "ticks": ""
           }
          },
          "colorscale": {
           "diverging": [
            [
             0,
             "#8e0152"
            ],
            [
             0.1,
             "#c51b7d"
            ],
            [
             0.2,
             "#de77ae"
            ],
            [
             0.3,
             "#f1b6da"
            ],
            [
             0.4,
             "#fde0ef"
            ],
            [
             0.5,
             "#f7f7f7"
            ],
            [
             0.6,
             "#e6f5d0"
            ],
            [
             0.7,
             "#b8e186"
            ],
            [
             0.8,
             "#7fbc41"
            ],
            [
             0.9,
             "#4d9221"
            ],
            [
             1,
             "#276419"
            ]
           ],
           "sequential": [
            [
             0,
             "#0d0887"
            ],
            [
             0.1111111111111111,
             "#46039f"
            ],
            [
             0.2222222222222222,
             "#7201a8"
            ],
            [
             0.3333333333333333,
             "#9c179e"
            ],
            [
             0.4444444444444444,
             "#bd3786"
            ],
            [
             0.5555555555555556,
             "#d8576b"
            ],
            [
             0.6666666666666666,
             "#ed7953"
            ],
            [
             0.7777777777777778,
             "#fb9f3a"
            ],
            [
             0.8888888888888888,
             "#fdca26"
            ],
            [
             1,
             "#f0f921"
            ]
           ],
           "sequentialminus": [
            [
             0,
             "#0d0887"
            ],
            [
             0.1111111111111111,
             "#46039f"
            ],
            [
             0.2222222222222222,
             "#7201a8"
            ],
            [
             0.3333333333333333,
             "#9c179e"
            ],
            [
             0.4444444444444444,
             "#bd3786"
            ],
            [
             0.5555555555555556,
             "#d8576b"
            ],
            [
             0.6666666666666666,
             "#ed7953"
            ],
            [
             0.7777777777777778,
             "#fb9f3a"
            ],
            [
             0.8888888888888888,
             "#fdca26"
            ],
            [
             1,
             "#f0f921"
            ]
           ]
          },
          "colorway": [
           "#636efa",
           "#EF553B",
           "#00cc96",
           "#ab63fa",
           "#FFA15A",
           "#19d3f3",
           "#FF6692",
           "#B6E880",
           "#FF97FF",
           "#FECB52"
          ],
          "font": {
           "color": "#2a3f5f"
          },
          "geo": {
           "bgcolor": "white",
           "lakecolor": "white",
           "landcolor": "#E5ECF6",
           "showlakes": true,
           "showland": true,
           "subunitcolor": "white"
          },
          "hoverlabel": {
           "align": "left"
          },
          "hovermode": "closest",
          "mapbox": {
           "style": "light"
          },
          "paper_bgcolor": "white",
          "plot_bgcolor": "#E5ECF6",
          "polar": {
           "angularaxis": {
            "gridcolor": "white",
            "linecolor": "white",
            "ticks": ""
           },
           "bgcolor": "#E5ECF6",
           "radialaxis": {
            "gridcolor": "white",
            "linecolor": "white",
            "ticks": ""
           }
          },
          "scene": {
           "xaxis": {
            "backgroundcolor": "#E5ECF6",
            "gridcolor": "white",
            "gridwidth": 2,
            "linecolor": "white",
            "showbackground": true,
            "ticks": "",
            "zerolinecolor": "white"
           },
           "yaxis": {
            "backgroundcolor": "#E5ECF6",
            "gridcolor": "white",
            "gridwidth": 2,
            "linecolor": "white",
            "showbackground": true,
            "ticks": "",
            "zerolinecolor": "white"
           },
           "zaxis": {
            "backgroundcolor": "#E5ECF6",
            "gridcolor": "white",
            "gridwidth": 2,
            "linecolor": "white",
            "showbackground": true,
            "ticks": "",
            "zerolinecolor": "white"
           }
          },
          "shapedefaults": {
           "line": {
            "color": "#2a3f5f"
           }
          },
          "ternary": {
           "aaxis": {
            "gridcolor": "white",
            "linecolor": "white",
            "ticks": ""
           },
           "baxis": {
            "gridcolor": "white",
            "linecolor": "white",
            "ticks": ""
           },
           "bgcolor": "#E5ECF6",
           "caxis": {
            "gridcolor": "white",
            "linecolor": "white",
            "ticks": ""
           }
          },
          "title": {
           "x": 0.05
          },
          "xaxis": {
           "automargin": true,
           "gridcolor": "white",
           "linecolor": "white",
           "ticks": "",
           "title": {
            "standoff": 15
           },
           "zerolinecolor": "white",
           "zerolinewidth": 2
          },
          "yaxis": {
           "automargin": true,
           "gridcolor": "white",
           "linecolor": "white",
           "ticks": "",
           "title": {
            "standoff": 15
           },
           "zerolinecolor": "white",
           "zerolinewidth": 2
          }
         }
        },
        "title": {
         "text": "Average Urban PM2.5 Concentration by Location"
        }
       }
      },
      "text/html": [
       "<div>                            <div id=\"5f50c9ef-9bca-43b2-8b02-75c73e13cdd2\" class=\"plotly-graph-div\" style=\"height:525px; width:100%;\"></div>            <script type=\"text/javascript\">                require([\"plotly\"], function(Plotly) {                    window.PLOTLYENV=window.PLOTLYENV || {};                                    if (document.getElementById(\"5f50c9ef-9bca-43b2-8b02-75c73e13cdd2\")) {                    Plotly.newPlot(                        \"5f50c9ef-9bca-43b2-8b02-75c73e13cdd2\",                        [{\"coloraxis\":\"coloraxis\",\"geo\":\"geo\",\"hovertemplate\":\"Location=%{location}\\u003cbr\\u003eFactValueNumeric=%{z}\\u003cextra\\u003e\\u003c\\u002fextra\\u003e\",\"locationmode\":\"country names\",\"locations\":[\"Afghanistan\",\"Albania\",\"Algeria\",\"Andorra\",\"Angola\",\"Antigua and Barbuda\",\"Argentina\",\"Armenia\",\"Australia\",\"Austria\",\"Azerbaijan\",\"Bahamas\",\"Bahrain\",\"Bangladesh\",\"Barbados\",\"Belarus\",\"Belgium\",\"Belize\",\"Benin\",\"Bhutan\",\"Bolivia (Plurinational State of)\",\"Bosnia and Herzegovina\",\"Botswana\",\"Brazil\",\"Brunei Darussalam\",\"Bulgaria\",\"Burkina Faso\",\"Burundi\",\"Cabo Verde\",\"Cambodia\",\"Cameroon\",\"Canada\",\"Central African Republic\",\"Chad\",\"Chile\",\"China\",\"Colombia\",\"Comoros\",\"Congo\",\"Cook Islands\",\"Costa Rica\",\"Cote d'Ivoire\",\"Croatia\",\"Cuba\",\"Cyprus\",\"Czechia\",\"Democratic People's Republic of Korea\",\"Democratic Republic of the Congo\",\"Denmark\",\"Djibouti\",\"Dominica\",\"Dominican Republic\",\"Ecuador\",\"Egypt\",\"El Salvador\",\"Equatorial Guinea\",\"Eritrea\",\"Estonia\",\"Eswatini\",\"Ethiopia\",\"Fiji\",\"Finland\",\"France\",\"Gabon\",\"Gambia\",\"Georgia\",\"Germany\",\"Ghana\",\"Greece\",\"Grenada\",\"Guatemala\",\"Guinea\",\"Guinea-Bissau\",\"Guyana\",\"Haiti\",\"Honduras\",\"Hungary\",\"Iceland\",\"India\",\"Indonesia\",\"Iran (Islamic Republic of)\",\"Iraq\",\"Ireland\",\"Israel\",\"Italy\",\"Jamaica\",\"Japan\",\"Jordan\",\"Kazakhstan\",\"Kenya\",\"Kiribati\",\"Kuwait\",\"Kyrgyzstan\",\"Lao People's Democratic Republic\",\"Latvia\",\"Lebanon\",\"Lesotho\",\"Liberia\",\"Libya\",\"Lithuania\",\"Luxembourg\",\"Madagascar\",\"Malawi\",\"Malaysia\",\"Maldives\",\"Mali\",\"Malta\",\"Marshall Islands\",\"Mauritania\",\"Mauritius\",\"Mexico\",\"Micronesia (Federated States of)\",\"Monaco\",\"Mongolia\",\"Montenegro\",\"Morocco\",\"Mozambique\",\"Myanmar\",\"Namibia\",\"Nauru\",\"Nepal\",\"Netherlands (Kingdom of the)\",\"New Zealand\",\"Nicaragua\",\"Niger\",\"Nigeria\",\"Niue\",\"North Macedonia\",\"Norway\",\"Oman\",\"Pakistan\",\"Palau\",\"Panama\",\"Papua New Guinea\",\"Paraguay\",\"Peru\",\"Philippines\",\"Poland\",\"Portugal\",\"Qatar\",\"Republic of Korea\",\"Republic of Moldova\",\"Romania\",\"Russian Federation\",\"Rwanda\",\"Saint Kitts and Nevis\",\"Saint Lucia\",\"Saint Vincent and the Grenadines\",\"Samoa\",\"San Marino\",\"Sao Tome and Principe\",\"Saudi Arabia\",\"Senegal\",\"Serbia\",\"Seychelles\",\"Sierra Leone\",\"Singapore\",\"Slovakia\",\"Slovenia\",\"Solomon Islands\",\"Somalia\",\"South Africa\",\"South Sudan\",\"Spain\",\"Sri Lanka\",\"Sudan\",\"Suriname\",\"Sweden\",\"Switzerland\",\"Syrian Arab Republic\",\"Tajikistan\",\"Thailand\",\"Timor-Leste\",\"Togo\",\"Tonga\",\"Trinidad and Tobago\",\"Tunisia\",\"Turkmenistan\",\"Tuvalu\",\"T\\u00fcrkiye\",\"Uganda\",\"Ukraine\",\"United Arab Emirates\",\"United Kingdom of Great Britain and Northern Ireland\",\"United Republic of Tanzania\",\"United States of America\",\"Uruguay\",\"Uzbekistan\",\"Vanuatu\",\"Venezuela (Bolivarian Republic of)\",\"Viet Nam\",\"Yemen\",\"Zambia\",\"Zimbabwe\",\"occupied Palestinian territory, including east Jerusalem\"],\"name\":\"\",\"z\":[73.13,19.846,22.3402,9.96425,26.5994,8.51925,13.063799999999999,40.541599999999995,7.4041999999999994,13.855799999999999,30.246599999999997,5.3014,54.5958,48.2078,9.807,17.1784,13.5534,10.5776,31.8524,23.82125,26.613000000000003,34.2952,13.8972,12.8388,7.777200000000001,21.878200000000003,43.433,28.016,31.423000000000002,18.245,58.389399999999995,7.0436000000000005,30.0752,48.857200000000006,22.893,49.616800000000005,16.9674,14.2072,32.4414,7.545,17.625,43.065,19.0938,14.8504,15.9376,18.165599999999998,54.5642,34.4448,10.9562,20.4444,8.37975,7.6284,17.3326,58.42,26.1748,26.7704,23.226,7.1442,15.340399999999999,22.573400000000003,7.627249999999999,6.4876,12.5638,28.367199999999997,38.422,23.152399999999997,12.9596,47.7406,16.78,10.13475,25.225,39.1128,36.8234,11.2646,9.8198,22.5484,17.8048,6.579,55.309,19.657799999999998,31.0992,39.818400000000004,9.1578,21.037,17.208199999999998,15.4856,12.472000000000001,25.025199999999998,36.501,12.328,7.640000000000001,63.2226,45.9318,22.8286,14.5166,23.6706,18.3856,36.1604,28.6618,12.416199999999998,10.5966,17.6174,19.3944,21.7958,13.022,41.3878,13.345999999999998,7.28575,44.305,10.5932,20.8092,7.699250000000001,10.484,51.8704,22.74,13.366200000000001,16.989,27.796599999999998,12.535,6.929250000000001,39.6566,12.693,7.7318,19.8156,53.1062,55.0374,6.553,32.7716,7.4916,36.428000000000004,55.8094,7.7425,14.024000000000001,8.984,14.634,29.859,22.883200000000002,23.663,8.9658,60.62440000000001,26.9932,14.4716,16.413,10.1658,35.304,8.0145,9.07775,9.443999999999999,7.710500000000001,11.425999999999998,32.932199999999995,59.3326,39.6456,26.452399999999997,17.22175,40.652,14.44725,19.6524,18.270799999999998,8.0778,14.377,18.741400000000002,22.2594,10.9992,24.076,23.253600000000002,12.456600000000002,6.7002,10.87,24.7628,65.7018,25.172600000000003,20.655,36.598,7.3340000000000005,10.3758,26.4362,31.8174,6.8420000000000005,23.0922,32.6746,15.345999999999998,41.608999999999995,10.8172,15.683800000000002,8.3578,9.2688,50.782399999999996,8.61425,19.5086,21.2444,41.1928,18.006600000000002,13.6828,29.601],\"type\":\"choropleth\"}],                        {\"template\":{\"data\":{\"histogram2dcontour\":[{\"type\":\"histogram2dcontour\",\"colorbar\":{\"outlinewidth\":0,\"ticks\":\"\"},\"colorscale\":[[0.0,\"#0d0887\"],[0.1111111111111111,\"#46039f\"],[0.2222222222222222,\"#7201a8\"],[0.3333333333333333,\"#9c179e\"],[0.4444444444444444,\"#bd3786\"],[0.5555555555555556,\"#d8576b\"],[0.6666666666666666,\"#ed7953\"],[0.7777777777777778,\"#fb9f3a\"],[0.8888888888888888,\"#fdca26\"],[1.0,\"#f0f921\"]]}],\"choropleth\":[{\"type\":\"choropleth\",\"colorbar\":{\"outlinewidth\":0,\"ticks\":\"\"}}],\"histogram2d\":[{\"type\":\"histogram2d\",\"colorbar\":{\"outlinewidth\":0,\"ticks\":\"\"},\"colorscale\":[[0.0,\"#0d0887\"],[0.1111111111111111,\"#46039f\"],[0.2222222222222222,\"#7201a8\"],[0.3333333333333333,\"#9c179e\"],[0.4444444444444444,\"#bd3786\"],[0.5555555555555556,\"#d8576b\"],[0.6666666666666666,\"#ed7953\"],[0.7777777777777778,\"#fb9f3a\"],[0.8888888888888888,\"#fdca26\"],[1.0,\"#f0f921\"]]}],\"heatmap\":[{\"type\":\"heatmap\",\"colorbar\":{\"outlinewidth\":0,\"ticks\":\"\"},\"colorscale\":[[0.0,\"#0d0887\"],[0.1111111111111111,\"#46039f\"],[0.2222222222222222,\"#7201a8\"],[0.3333333333333333,\"#9c179e\"],[0.4444444444444444,\"#bd3786\"],[0.5555555555555556,\"#d8576b\"],[0.6666666666666666,\"#ed7953\"],[0.7777777777777778,\"#fb9f3a\"],[0.8888888888888888,\"#fdca26\"],[1.0,\"#f0f921\"]]}],\"heatmapgl\":[{\"type\":\"heatmapgl\",\"colorbar\":{\"outlinewidth\":0,\"ticks\":\"\"},\"colorscale\":[[0.0,\"#0d0887\"],[0.1111111111111111,\"#46039f\"],[0.2222222222222222,\"#7201a8\"],[0.3333333333333333,\"#9c179e\"],[0.4444444444444444,\"#bd3786\"],[0.5555555555555556,\"#d8576b\"],[0.6666666666666666,\"#ed7953\"],[0.7777777777777778,\"#fb9f3a\"],[0.8888888888888888,\"#fdca26\"],[1.0,\"#f0f921\"]]}],\"contourcarpet\":[{\"type\":\"contourcarpet\",\"colorbar\":{\"outlinewidth\":0,\"ticks\":\"\"}}],\"contour\":[{\"type\":\"contour\",\"colorbar\":{\"outlinewidth\":0,\"ticks\":\"\"},\"colorscale\":[[0.0,\"#0d0887\"],[0.1111111111111111,\"#46039f\"],[0.2222222222222222,\"#7201a8\"],[0.3333333333333333,\"#9c179e\"],[0.4444444444444444,\"#bd3786\"],[0.5555555555555556,\"#d8576b\"],[0.6666666666666666,\"#ed7953\"],[0.7777777777777778,\"#fb9f3a\"],[0.8888888888888888,\"#fdca26\"],[1.0,\"#f0f921\"]]}],\"surface\":[{\"type\":\"surface\",\"colorbar\":{\"outlinewidth\":0,\"ticks\":\"\"},\"colorscale\":[[0.0,\"#0d0887\"],[0.1111111111111111,\"#46039f\"],[0.2222222222222222,\"#7201a8\"],[0.3333333333333333,\"#9c179e\"],[0.4444444444444444,\"#bd3786\"],[0.5555555555555556,\"#d8576b\"],[0.6666666666666666,\"#ed7953\"],[0.7777777777777778,\"#fb9f3a\"],[0.8888888888888888,\"#fdca26\"],[1.0,\"#f0f921\"]]}],\"mesh3d\":[{\"type\":\"mesh3d\",\"colorbar\":{\"outlinewidth\":0,\"ticks\":\"\"}}],\"scatter\":[{\"fillpattern\":{\"fillmode\":\"overlay\",\"size\":10,\"solidity\":0.2},\"type\":\"scatter\"}],\"parcoords\":[{\"type\":\"parcoords\",\"line\":{\"colorbar\":{\"outlinewidth\":0,\"ticks\":\"\"}}}],\"scatterpolargl\":[{\"type\":\"scatterpolargl\",\"marker\":{\"colorbar\":{\"outlinewidth\":0,\"ticks\":\"\"}}}],\"bar\":[{\"error_x\":{\"color\":\"#2a3f5f\"},\"error_y\":{\"color\":\"#2a3f5f\"},\"marker\":{\"line\":{\"color\":\"#E5ECF6\",\"width\":0.5},\"pattern\":{\"fillmode\":\"overlay\",\"size\":10,\"solidity\":0.2}},\"type\":\"bar\"}],\"scattergeo\":[{\"type\":\"scattergeo\",\"marker\":{\"colorbar\":{\"outlinewidth\":0,\"ticks\":\"\"}}}],\"scatterpolar\":[{\"type\":\"scatterpolar\",\"marker\":{\"colorbar\":{\"outlinewidth\":0,\"ticks\":\"\"}}}],\"histogram\":[{\"marker\":{\"pattern\":{\"fillmode\":\"overlay\",\"size\":10,\"solidity\":0.2}},\"type\":\"histogram\"}],\"scattergl\":[{\"type\":\"scattergl\",\"marker\":{\"colorbar\":{\"outlinewidth\":0,\"ticks\":\"\"}}}],\"scatter3d\":[{\"type\":\"scatter3d\",\"line\":{\"colorbar\":{\"outlinewidth\":0,\"ticks\":\"\"}},\"marker\":{\"colorbar\":{\"outlinewidth\":0,\"ticks\":\"\"}}}],\"scattermapbox\":[{\"type\":\"scattermapbox\",\"marker\":{\"colorbar\":{\"outlinewidth\":0,\"ticks\":\"\"}}}],\"scatterternary\":[{\"type\":\"scatterternary\",\"marker\":{\"colorbar\":{\"outlinewidth\":0,\"ticks\":\"\"}}}],\"scattercarpet\":[{\"type\":\"scattercarpet\",\"marker\":{\"colorbar\":{\"outlinewidth\":0,\"ticks\":\"\"}}}],\"carpet\":[{\"aaxis\":{\"endlinecolor\":\"#2a3f5f\",\"gridcolor\":\"white\",\"linecolor\":\"white\",\"minorgridcolor\":\"white\",\"startlinecolor\":\"#2a3f5f\"},\"baxis\":{\"endlinecolor\":\"#2a3f5f\",\"gridcolor\":\"white\",\"linecolor\":\"white\",\"minorgridcolor\":\"white\",\"startlinecolor\":\"#2a3f5f\"},\"type\":\"carpet\"}],\"table\":[{\"cells\":{\"fill\":{\"color\":\"#EBF0F8\"},\"line\":{\"color\":\"white\"}},\"header\":{\"fill\":{\"color\":\"#C8D4E3\"},\"line\":{\"color\":\"white\"}},\"type\":\"table\"}],\"barpolar\":[{\"marker\":{\"line\":{\"color\":\"#E5ECF6\",\"width\":0.5},\"pattern\":{\"fillmode\":\"overlay\",\"size\":10,\"solidity\":0.2}},\"type\":\"barpolar\"}],\"pie\":[{\"automargin\":true,\"type\":\"pie\"}]},\"layout\":{\"autotypenumbers\":\"strict\",\"colorway\":[\"#636efa\",\"#EF553B\",\"#00cc96\",\"#ab63fa\",\"#FFA15A\",\"#19d3f3\",\"#FF6692\",\"#B6E880\",\"#FF97FF\",\"#FECB52\"],\"font\":{\"color\":\"#2a3f5f\"},\"hovermode\":\"closest\",\"hoverlabel\":{\"align\":\"left\"},\"paper_bgcolor\":\"white\",\"plot_bgcolor\":\"#E5ECF6\",\"polar\":{\"bgcolor\":\"#E5ECF6\",\"angularaxis\":{\"gridcolor\":\"white\",\"linecolor\":\"white\",\"ticks\":\"\"},\"radialaxis\":{\"gridcolor\":\"white\",\"linecolor\":\"white\",\"ticks\":\"\"}},\"ternary\":{\"bgcolor\":\"#E5ECF6\",\"aaxis\":{\"gridcolor\":\"white\",\"linecolor\":\"white\",\"ticks\":\"\"},\"baxis\":{\"gridcolor\":\"white\",\"linecolor\":\"white\",\"ticks\":\"\"},\"caxis\":{\"gridcolor\":\"white\",\"linecolor\":\"white\",\"ticks\":\"\"}},\"coloraxis\":{\"colorbar\":{\"outlinewidth\":0,\"ticks\":\"\"}},\"colorscale\":{\"sequential\":[[0.0,\"#0d0887\"],[0.1111111111111111,\"#46039f\"],[0.2222222222222222,\"#7201a8\"],[0.3333333333333333,\"#9c179e\"],[0.4444444444444444,\"#bd3786\"],[0.5555555555555556,\"#d8576b\"],[0.6666666666666666,\"#ed7953\"],[0.7777777777777778,\"#fb9f3a\"],[0.8888888888888888,\"#fdca26\"],[1.0,\"#f0f921\"]],\"sequentialminus\":[[0.0,\"#0d0887\"],[0.1111111111111111,\"#46039f\"],[0.2222222222222222,\"#7201a8\"],[0.3333333333333333,\"#9c179e\"],[0.4444444444444444,\"#bd3786\"],[0.5555555555555556,\"#d8576b\"],[0.6666666666666666,\"#ed7953\"],[0.7777777777777778,\"#fb9f3a\"],[0.8888888888888888,\"#fdca26\"],[1.0,\"#f0f921\"]],\"diverging\":[[0,\"#8e0152\"],[0.1,\"#c51b7d\"],[0.2,\"#de77ae\"],[0.3,\"#f1b6da\"],[0.4,\"#fde0ef\"],[0.5,\"#f7f7f7\"],[0.6,\"#e6f5d0\"],[0.7,\"#b8e186\"],[0.8,\"#7fbc41\"],[0.9,\"#4d9221\"],[1,\"#276419\"]]},\"xaxis\":{\"gridcolor\":\"white\",\"linecolor\":\"white\",\"ticks\":\"\",\"title\":{\"standoff\":15},\"zerolinecolor\":\"white\",\"automargin\":true,\"zerolinewidth\":2},\"yaxis\":{\"gridcolor\":\"white\",\"linecolor\":\"white\",\"ticks\":\"\",\"title\":{\"standoff\":15},\"zerolinecolor\":\"white\",\"automargin\":true,\"zerolinewidth\":2},\"scene\":{\"xaxis\":{\"backgroundcolor\":\"#E5ECF6\",\"gridcolor\":\"white\",\"linecolor\":\"white\",\"showbackground\":true,\"ticks\":\"\",\"zerolinecolor\":\"white\",\"gridwidth\":2},\"yaxis\":{\"backgroundcolor\":\"#E5ECF6\",\"gridcolor\":\"white\",\"linecolor\":\"white\",\"showbackground\":true,\"ticks\":\"\",\"zerolinecolor\":\"white\",\"gridwidth\":2},\"zaxis\":{\"backgroundcolor\":\"#E5ECF6\",\"gridcolor\":\"white\",\"linecolor\":\"white\",\"showbackground\":true,\"ticks\":\"\",\"zerolinecolor\":\"white\",\"gridwidth\":2}},\"shapedefaults\":{\"line\":{\"color\":\"#2a3f5f\"}},\"annotationdefaults\":{\"arrowcolor\":\"#2a3f5f\",\"arrowhead\":0,\"arrowwidth\":1},\"geo\":{\"bgcolor\":\"white\",\"landcolor\":\"#E5ECF6\",\"subunitcolor\":\"white\",\"showland\":true,\"showlakes\":true,\"lakecolor\":\"white\"},\"title\":{\"x\":0.05},\"mapbox\":{\"style\":\"light\"}}},\"geo\":{\"domain\":{\"x\":[0.0,1.0],\"y\":[0.0,1.0]},\"center\":{}},\"coloraxis\":{\"colorbar\":{\"title\":{\"text\":\"FactValueNumeric\"}},\"colorscale\":[[0.0,\"#30123b\"],[0.07142857142857142,\"#4145ab\"],[0.14285714285714285,\"#4675ed\"],[0.21428571428571427,\"#39a2fc\"],[0.2857142857142857,\"#1bcfd4\"],[0.35714285714285715,\"#24eca6\"],[0.42857142857142855,\"#61fc6c\"],[0.5,\"#a4fc3b\"],[0.5714285714285714,\"#d1e834\"],[0.6428571428571429,\"#f3c63a\"],[0.7142857142857143,\"#fe9b2d\"],[0.7857142857142857,\"#f36315\"],[0.8571428571428571,\"#d93806\"],[0.9285714285714286,\"#b11901\"],[1.0,\"#7a0402\"]]},\"legend\":{\"tracegroupgap\":0},\"title\":{\"text\":\"Average Urban PM2.5 Concentration by Location\"}},                        {\"responsive\": true}                    ).then(function(){\n",
       "                            \n",
       "var gd = document.getElementById('5f50c9ef-9bca-43b2-8b02-75c73e13cdd2');\n",
       "var x = new MutationObserver(function (mutations, observer) {{\n",
       "        var display = window.getComputedStyle(gd).display;\n",
       "        if (!display || display === 'none') {{\n",
       "            console.log([gd, 'removed!']);\n",
       "            Plotly.purge(gd);\n",
       "            observer.disconnect();\n",
       "        }}\n",
       "}});\n",
       "\n",
       "// Listen for the removal of the full notebook cells\n",
       "var notebookContainer = gd.closest('#notebook-container');\n",
       "if (notebookContainer) {{\n",
       "    x.observe(notebookContainer, {childList: true});\n",
       "}}\n",
       "\n",
       "// Listen for the clearing of the current output cell\n",
       "var outputEl = gd.closest('.output');\n",
       "if (outputEl) {{\n",
       "    x.observe(outputEl, {childList: true});\n",
       "}}\n",
       "\n",
       "                        })                };                });            </script>        </div>"
      ]
     },
     "metadata": {},
     "output_type": "display_data"
    }
   ],
   "source": [
    "# 5.4 Interactive choropleth (if 'Location' is mappable to country names)\n",
    "# Note: Requires cleaning or standardizing country/location names first\n",
    "choropleth_df = df.groupby('Location')[pm_col].mean().reset_index()\n",
    "fig = px.choropleth(\n",
    "    choropleth_df,\n",
    "    locations=\"Location\",\n",
    "    locationmode=\"country names\", # Might need to adjust based on real values\n",
    "    color=pm_col,\n",
    "    color_continuous_scale=\"Turbo\",\n",
    "    title=\"Average Urban PM2.5 Concentration by Location\"\n",
    ")\n",
    "fig.show()"
   ]
  },
  {
   "cell_type": "code",
   "execution_count": 217,
   "id": "24e865b7-69b6-4193-aea0-a59261247fc9",
   "metadata": {},
   "outputs": [
    {
     "name": "stdout",
     "output_type": "stream",
     "text": [
      "\n",
      " Interim file sved to: ../data/interim/pm25_explored.csv\n"
     ]
    }
   ],
   "source": [
    "# ---------------------------\n",
    "# 6. Save Interim Version\n",
    "# ---------------------------\n",
    "\n",
    "interim_path = \"../data/interim/pm25_explored.csv\"\n",
    "df.to_csv(interim_path, index=False)\n",
    "print(f\"\\n Interim file sved to: {interim_path}\")"
   ]
  },
  {
   "cell_type": "code",
   "execution_count": null,
   "id": "840aa3f6-8e79-422e-8071-9244e5443e9b",
   "metadata": {},
   "outputs": [],
   "source": []
  }
 ],
 "metadata": {
  "kernelspec": {
   "display_name": "Python [conda env:base] *",
   "language": "python",
   "name": "conda-base-py"
  },
  "language_info": {
   "codemirror_mode": {
    "name": "ipython",
    "version": 3
   },
   "file_extension": ".py",
   "mimetype": "text/x-python",
   "name": "python",
   "nbconvert_exporter": "python",
   "pygments_lexer": "ipython3",
   "version": "3.12.7"
  }
 },
 "nbformat": 4,
 "nbformat_minor": 5
}
